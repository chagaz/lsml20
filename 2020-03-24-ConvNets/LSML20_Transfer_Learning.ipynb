{
 "cells": [
  {
   "cell_type": "markdown",
   "metadata": {
    "colab_type": "text",
    "id": "jlPcSBcmGh71"
   },
   "source": [
    "This notebook has been prepared by Fabien Moutarde and Guillaume Devineau from MINES ParisTech."
   ]
  },
  {
   "cell_type": "markdown",
   "metadata": {
    "colab_type": "text",
    "id": "6w0YZN-XLwAy"
   },
   "source": [
    "NOTE: For the colab version of the notebook please make sure that you are using python3 and a **GPU accelerated backend** (select *GPU* as Hardware accelerator either in the *Edit > Notebook settings* or in the *Runtime > Change runtime type* menus for the english colab interface, or in the *Execution > Modifier le type d'exécution* menus for the french colab interface)."
   ]
  },
  {
   "cell_type": "markdown",
   "metadata": {
    "colab_type": "text",
    "id": "YL9IosvfGh72"
   },
   "source": [
    "# Deep-Learning with Convolutional Neural Networks : Transfer Learning"
   ]
  },
  {
   "cell_type": "markdown",
   "metadata": {
    "colab_type": "text",
    "id": "E3rbRTynGh74"
   },
   "source": [
    "## 1. Introduction"
   ]
  },
  {
   "cell_type": "markdown",
   "metadata": {
    "colab_type": "text",
    "id": "SKGULbMBGh75"
   },
   "source": [
    "### 1.1 Convolutional Neural Network (CNN)"
   ]
  },
  {
   "cell_type": "markdown",
   "metadata": {
    "colab_type": "text",
    "id": "xk7AFDAWGh75"
   },
   "source": [
    "Convolutional Neural Networks (ConvNets) are powerful tools to create a mapping between an input domain, e.g. images, and an output domain, e.g. classes associated with the images.\n",
    "\n",
    "Creating effective neural networks for a given task requires design choices, which include the network topology, the optimization procedure and the regularization. This is time consuming and requires expert input. For this reason, people tend to use <i>(de facto)</i> standard neural networks already known to be effective for a given task."
   ]
  },
  {
   "cell_type": "markdown",
   "metadata": {
    "colab_type": "text",
    "id": "-yCJnTaJGh77"
   },
   "source": [
    "In this session, we will use a neural network, called **Inception v3** <code>[1]</code>, to classify images. The architecture of the Inception network is presented below.\n",
    "\n",
    "<img src=\"https://hackathonprojects.files.wordpress.com/2016/09/74911-image03.png\" alt=\"Inception\" width=\"95%\" />\n",
    "\n",
    "<code>[1] https://arxiv.org/pdf/1512.00567.pdf</code>"
   ]
  },
  {
   "cell_type": "markdown",
   "metadata": {
    "colab_type": "text",
    "id": "Ul4BR3P9Gh78"
   },
   "source": [
    "### 1.2. Transfer Learning"
   ]
  },
  {
   "cell_type": "markdown",
   "metadata": {
    "colab_type": "text",
    "id": "7MI7y5o2Gh78"
   },
   "source": [
    "In order not to spend the whole practical session staring at the screen while the network is training, we will not train the network from scratch but we will rather take a different approach called **Transfer Learning**.\n",
    "\n",
    "When a model is trained on a given dataset for a given task, a knowledge useful for the task is accumulated. Transfer Learning is based on the hypothesis that this knowledge can -mostly- be reused for another similar dataset or task. In practice, this assumption is verified in a lot of cases.\n",
    "\n",
    "** Transfer learning is partcularly powerful when re-using a convNet pre-trained for image classification on the huge and general ImageNet dataset. This is because it has learnt and \"stored\" in its lower layers a very GENERAL-PURPOSE transformation of images into a hierarchy of features. This learnt transformation is general enough to be used as a foundation onto which one can stack new layers for EASILY LEARNING ANY FUNCTION OF IMAGES: categorization for totally different classes, regression of camera pose, etc... Moreover, because the re-used layers transform input images into a very \"pertinent\" feature space, transfer learning make it possible to learn WITH VERY FEW EXAMPLES PER CLASS (and rather few epochs of training), as illustrated on the plot below.**\n",
    "\n",
    "![](http://perso.mines-paristech.fr/fabien.moutarde/ES_LSML/TP_TransferLearning-ConvNet/transfer-learning_Caltech-veryFewExamplesPerClass.png) \n",
    "\n",
    "** The goal of this practical session is precisely to allow you to reproduce and check by yourself the above result.**"
   ]
  },
  {
   "cell_type": "markdown",
   "metadata": {
    "colab_type": "text",
    "id": "tSb-LuCWGh79"
   },
   "source": [
    "## 2. Code"
   ]
  },
  {
   "cell_type": "markdown",
   "metadata": {
    "colab_type": "text",
    "id": "FxB7opRGGh7_"
   },
   "source": [
    "The notebook should work fine with both python 2 and python 3. If you have both, use python 3."
   ]
  },
  {
   "cell_type": "code",
   "execution_count": null,
   "metadata": {
    "colab": {
     "base_uri": "https://localhost:8080/",
     "height": 35
    },
    "colab_type": "code",
    "id": "-TDjW91CGh8A",
    "outputId": "c3587e75-6730-4a87-e74f-60ca70940129"
   },
   "outputs": [
    {
     "name": "stdout",
     "output_type": "stream",
     "text": [
      "Your python version: 3\n"
     ]
    }
   ],
   "source": [
    "import sys\n",
    "print('Your python version: {}'.format(sys.version_info.major))"
   ]
  },
  {
   "cell_type": "markdown",
   "metadata": {
    "colab_type": "text",
    "id": "E30yFp4VGh8E"
   },
   "source": [
    "### 2.1. (In case of emergency)\n",
    "\n",
    "The notebook should run smoothly, but in case of a missing module (<code>ImportError: No module named your_missing_module</code>), uncomment the cell below (comments start with a <code>#</code>) to install the python pip modules needed."
   ]
  },
  {
   "cell_type": "code",
   "execution_count": null,
   "metadata": {
    "colab": {},
    "colab_type": "code",
    "id": "czDst4v3Gh8E"
   },
   "outputs": [],
   "source": [
    "#!{sys.executable} -m pip install -U keras --user\n",
    "#!{sys.executable} -m pip install -U np_utils --user\n",
    "#!{sys.executable} -m pip install -U h5py --user  \n",
    "#!{sys.executable} -m pip install -U matplotlib --user\n",
    "#!{sys.executable} -m pip install -U seaborn --user\n",
    "#!{sys.executable} -m pip install -U scipy --user\n",
    "#!{sys.executable} -m pip install -U pygpu --user\n",
    "#!{sys.executable} -m pip install -U six --user\n",
    "#!{sys.executable} -m pip install -U tensorflow --user      # CPU-only version\n",
    "#!{sys.executable} -m pip install -U tensorflow-gpu --user  # GPU version"
   ]
  },
  {
   "cell_type": "markdown",
   "metadata": {
    "colab_type": "text",
    "id": "FzB9oxutGh8H"
   },
   "source": [
    "### 2.2. Imports"
   ]
  },
  {
   "cell_type": "markdown",
   "metadata": {
    "colab_type": "text",
    "id": "BDSboaFPGh8I"
   },
   "source": [
    "Let's import every module we'll use later."
   ]
  },
  {
   "cell_type": "code",
   "execution_count": null,
   "metadata": {
    "colab": {},
    "colab_type": "code",
    "id": "oZ9AKZ1uGh8J"
   },
   "outputs": [],
   "source": [
    "USE_TENSORFLOW_AS_BACKEND = True"
   ]
  },
  {
   "cell_type": "code",
   "execution_count": null,
   "metadata": {
    "colab": {},
    "colab_type": "code",
    "id": "S-RBqVPyGh8L"
   },
   "outputs": [],
   "source": [
    "%matplotlib inline\n",
    "from scipy import misc\n",
    "import matplotlib.pyplot as plt\n",
    "import numpy as np\n",
    "import os\n",
    "import seaborn"
   ]
  },
  {
   "cell_type": "code",
   "execution_count": null,
   "metadata": {
    "colab": {},
    "colab_type": "code",
    "id": "KfI8Oq5fGh8P"
   },
   "outputs": [],
   "source": [
    "if USE_TENSORFLOW_AS_BACKEND:\n",
    "    os.environ['KERAS_BACKEND'] = 'tensorflow'\n",
    "else:\n",
    "    os.environ['KERAS_BACKEND'] = 'theano'"
   ]
  },
  {
   "cell_type": "code",
   "execution_count": null,
   "metadata": {
    "colab": {
     "base_uri": "https://localhost:8080/",
     "height": 35
    },
    "colab_type": "code",
    "id": "Wc3Sn4s4Gh8S",
    "outputId": "65203d82-3c89-4327-b098-8a8f67565399"
   },
   "outputs": [
    {
     "name": "stderr",
     "output_type": "stream",
     "text": [
      "Using TensorFlow backend.\n"
     ]
    }
   ],
   "source": [
    "import keras\n",
    "from keras import backend as K\n",
    "from keras.applications.inception_v3 import InceptionV3, preprocess_input\n",
    "from keras.layers import Dense, GlobalAveragePooling2D\n",
    "from keras.models import Model\n",
    "from keras.preprocessing import image\n",
    "from keras.preprocessing.image import array_to_img, img_to_array, load_img\n",
    "from keras.utils import np_utils"
   ]
  },
  {
   "cell_type": "code",
   "execution_count": null,
   "metadata": {
    "colab": {},
    "colab_type": "code",
    "id": "VhsZ9gOhGh8W"
   },
   "outputs": [],
   "source": [
    "if USE_TENSORFLOW_AS_BACKEND:\n",
    "    K.set_image_dim_ordering('tf')\n",
    "else:\n",
    "    K.set_image_dim_ordering('th')"
   ]
  },
  {
   "cell_type": "markdown",
   "metadata": {
    "colab_type": "text",
    "id": "u_EcI1YFGh8Y"
   },
   "source": [
    "Display the version of your modules (this notebook has successfully been tested with keras version 2.2.4 and tensorflow version 1.12.0. for instance)."
   ]
  },
  {
   "cell_type": "code",
   "execution_count": null,
   "metadata": {
    "colab": {
     "base_uri": "https://localhost:8080/",
     "height": 53
    },
    "colab_type": "code",
    "id": "YQRMi_EFGh8Z",
    "outputId": "c668c385-389d-4e53-aded-e5bd01511701"
   },
   "outputs": [
    {
     "name": "stdout",
     "output_type": "stream",
     "text": [
      "Your keras version: 2.2.4\n",
      "Your tensorflow version: 1.13.1\n"
     ]
    }
   ],
   "source": [
    "print('Your keras version: {}'.format(keras.__version__))\n",
    "if USE_TENSORFLOW_AS_BACKEND == True:\n",
    "    import tensorflow\n",
    "    print('Your tensorflow version: {}'.format(tensorflow.__version__))\n",
    "else:\n",
    "    import theano\n",
    "    print('Your theano version: {}'.format(theano.__version__))"
   ]
  },
  {
   "cell_type": "markdown",
   "metadata": {
    "colab_type": "text",
    "id": "G8mJ1E80Gh8b"
   },
   "source": [
    "## 3. Dataset"
   ]
  },
  {
   "cell_type": "markdown",
   "metadata": {
    "colab_type": "text",
    "id": "ZRJilbzIGh8c"
   },
   "source": [
    "We use a small image dataset called <code>CalTech 101 dataset</code> : it consists of pictures of objects belonging to 101 categories, with about 40 to 800 images per category; most categories have about 50 images."
   ]
  },
  {
   "cell_type": "markdown",
   "metadata": {
    "colab_type": "text",
    "id": "ROoOZepHGh8d"
   },
   "source": [
    "### 3.1. Data download (optional)"
   ]
  },
  {
   "cell_type": "markdown",
   "metadata": {
    "colab_type": "text",
    "id": "Ypes8eqtGh8e"
   },
   "source": [
    "<b>Skip this subsection if your are working on a MINES ParisTech self-service machine</b>, as the dataset is already downloaded on MINES ParisTech self-service machines."
   ]
  },
  {
   "cell_type": "markdown",
   "metadata": {
    "colab_type": "text",
    "id": "sV_E6WvtGh8e"
   },
   "source": [
    "Otherwise, download the dataset on your own latop download this archive (*): http://www.vision.caltech.edu/Image_Datasets/Caltech101/101_ObjectCategories.tar.gz and extract it. For convenience, the dataset can also be  <a href=101_ObjectCategories.tar.gz> downloaded locally from here</a>."
   ]
  },
  {
   "cell_type": "code",
   "execution_count": null,
   "metadata": {
    "colab": {},
    "colab_type": "code",
    "id": "rT3NTPk4Gh8f"
   },
   "outputs": [],
   "source": [
    "# --- only if you are on your own laptop ---\n",
    "\n",
    "# Uncomment to download the dataset\n",
    "# ...on Mines ParisTech computers:\n",
    "# !wget \"http://www.vision.caltech.edu/Image_Datasets/Caltech101/101_ObjectCategories.tar.gz\" \n",
    "# ... or on google colab:\n",
    "# ![[ -f 101_ObjectCategories.tar.gz ]] || wget \"http://www.vision.caltech.edu/Image_Datasets/Caltech101/101_ObjectCategories.tar.gz\"\n",
    "\n",
    "# Uncomment to extract the dataset\n",
    "# ...on Mines ParisTech computers:\n",
    "#!tar xzf 101_ObjectCategories.tar.gz\n",
    "# ... or on google colab:\n",
    "#![[ -f 101_ObjectCategories ]] || tar xzf 101_ObjectCategories.tar.gz\n",
    "\n",
    "# Display files\n",
    "!ls"
   ]
  },
  {
   "cell_type": "markdown",
   "metadata": {
    "colab_type": "text",
    "id": "DBcEFdGyGh8i"
   },
   "source": [
    "Finally, <b>you should also change the value of</b> <code>dataset_path</code> in the <code>get_data()</code> function in code-cell below (section 3.2.) to include the correct path to the dataset you downloaded and extracted."
   ]
  },
  {
   "cell_type": "markdown",
   "metadata": {
    "colab_type": "text",
    "id": "0qgeQPP-Gh8j"
   },
   "source": [
    "### 3.2. Data preprocessing"
   ]
  },
  {
   "cell_type": "markdown",
   "metadata": {
    "colab_type": "text",
    "id": "21ww3kuhGh8k"
   },
   "source": [
    "Quick functions to load the data:"
   ]
  },
  {
   "cell_type": "code",
   "execution_count": null,
   "metadata": {
    "colab": {},
    "colab_type": "code",
    "id": "GNVtwEhFGh8l"
   },
   "outputs": [],
   "source": [
    "def load_batch_images(path, n_examples_train, n_examples_validation=2, max_imgs_by_class=30, nb_categories=4, resize_to_size=(224,224)):\n",
    "\n",
    "    images_train = []\n",
    "    labels_train = []\n",
    "    images_validation = []\n",
    "    labels_validation = []\n",
    "    \n",
    "    # Get categories\n",
    "    categories_list = os.listdir(path)\n",
    "    categories_list = [category for category in categories_list if category != '.DS_Store']\n",
    "    if isinstance(nb_categories, int) and len(categories_list) >= nb_categories:\n",
    "        categories_list = categories_list[0:nb_categories]\n",
    "\n",
    "    # For each category...\n",
    "    for idx, category in enumerate(categories_list):\n",
    "        # ... get images in category ...\n",
    "        images_list = os.listdir(os.path.join(path, category))        \n",
    "        if len(images_list) > max_imgs_by_class:\n",
    "            images_list = images_list[:max_imgs_by_class]\n",
    "        \n",
    "        indx = 0\n",
    "        for images in images_list[:n_examples_train + n_examples_validation]:                \n",
    "            # ... load them ...\n",
    "            img = load_img(os.path.join(path, category, images))  # as PIL images\n",
    "            img = img_to_array(img)                               # as numpy array\n",
    "            img = misc.imresize(img, resize_to_size)              # resize\n",
    "            # img = misc.imrotate(img, 180)\n",
    "            if indx < n_examples_train:\n",
    "                images_train.append(img)\n",
    "                labels_train.append(idx)\n",
    "            else:\n",
    "                images_validation.append(img)\n",
    "                labels_validation.append(idx)\n",
    "            indx += 1\n",
    "    \n",
    "    # Convert to one-hot\n",
    "    labels_train = np_utils.to_categorical(labels_train)\n",
    "    labels_validation = np_utils.to_categorical(labels_validation)\n",
    "\n",
    "    return images_train, labels_train, images_validation, labels_validation"
   ]
  },
  {
   "cell_type": "code",
   "execution_count": null,
   "metadata": {
    "colab": {},
    "colab_type": "code",
    "id": "c4jmMoaCGh8n"
   },
   "outputs": [],
   "source": [
    "def shuffle_dataset(a, b):\n",
    "    \"\"\"Shuffle the entire dataset\"\"\"\n",
    "    assert np.shape(a)[0] == np.shape(b)[0]\n",
    "    p = np.random.permutation(np.shape(a)[0])\n",
    "    return (a[p], b[p])"
   ]
  },
  {
   "cell_type": "code",
   "execution_count": null,
   "metadata": {
    "colab": {},
    "colab_type": "code",
    "id": "37XgJOT8Gh8r"
   },
   "outputs": [],
   "source": [
    "def get_data(samples_by_category=8, dataset_path=\"/export/home/manitou/6/Commun/Neuronal/LSML/101_ObjectCategories/\", nb_categories=4):\n",
    "\n",
    "    images_train, labels_train, images_validation, labels_validation = load_batch_images(path=dataset_path, n_examples_train=samples_by_category, n_examples_validation=20, max_imgs_by_class=30, nb_categories=nb_categories)\n",
    "\n",
    "    images_train = np.float64(images_train)\n",
    "    images_validation = np.float64(images_validation)\n",
    "\n",
    "    images_train = preprocess_input(images_train)  # substract the mean RGB channels of the imagenet dataset. This is because the Inception model we are using has been trained on a different dataset (imagenet dataset)\n",
    "    images_validation = preprocess_input(images_validation)\n",
    "\n",
    "    if not USE_TENSORFLOW_AS_BACKEND:\n",
    "        images_validation = images_validation.swapaxes(1, 3).swapaxes(2, 3)\n",
    "        images_train = images_train.swapaxes(1, 3).swapaxes(2, 3)\n",
    "\n",
    "    train = shuffle_dataset(np.asarray(images_train), labels_train)\n",
    "    validation = shuffle_dataset(np.asarray(images_validation), labels_validation)\n",
    "\n",
    "    images_train, labels_train = train\n",
    "    images_validation, labels_validation = validation\n",
    "\n",
    "    return images_train, labels_train, train, images_validation, labels_validation, validation"
   ]
  },
  {
   "cell_type": "markdown",
   "metadata": {
    "colab_type": "text",
    "id": "nkCoiJxC6Ys1"
   },
   "source": [
    "### 3.3. Sanity check"
   ]
  },
  {
   "cell_type": "markdown",
   "metadata": {
    "colab_type": "text",
    "id": "xMbr9J3JGh8v"
   },
   "source": [
    "Let's plot some images to check that the images are correctly loaded:"
   ]
  },
  {
   "cell_type": "code",
   "execution_count": null,
   "metadata": {
    "colab": {},
    "colab_type": "code",
    "id": "WbE786sVGh8v"
   },
   "outputs": [],
   "source": [
    "def demo_plot():\n",
    "    demo_path = \"./101_ObjectCategories/\"\n",
    "    #  demo_path = \"/export/home/manitou/6/Commun/Neuronal/LSML/101_ObjectCategories/\"\n",
    "    demo_data, _, _, _ = load_batch_images(path=demo_path, n_examples_train=8, n_examples_validation=20)\n",
    "    f, axarr = plt.subplots(2,2)\n",
    "    axarr[0,0].imshow(demo_data[0])\n",
    "    axarr[1,0].imshow(demo_data[1])\n",
    "    axarr[0,1].imshow(demo_data[27])\n",
    "    axarr[1,1].imshow(demo_data[31])\n",
    "    axarr[0,0].grid('off')\n",
    "    axarr[0,1].grid('off')\n",
    "    axarr[1,0].grid('off')\n",
    "    axarr[1,1].grid('off')\n",
    "    plt.show()"
   ]
  },
  {
   "cell_type": "code",
   "execution_count": null,
   "metadata": {
    "colab": {},
    "colab_type": "code",
    "id": "LXfKvo5sGh8y"
   },
   "outputs": [],
   "source": [
    "demo_plot()"
   ]
  },
  {
   "cell_type": "markdown",
   "metadata": {
    "colab_type": "text",
    "id": "-p6SpXeyGh80"
   },
   "source": [
    "Now, let's load the data!"
   ]
  },
  {
   "cell_type": "markdown",
   "metadata": {
    "colab_type": "text",
    "id": "q9Qmk4DZ6Ys8"
   },
   "source": [
    "### 3.4. Data loading"
   ]
  },
  {
   "cell_type": "markdown",
   "metadata": {
    "colab_type": "text",
    "id": "DqIVoQaqGh81"
   },
   "source": [
    "To speed up the training, we will use only a few of the 101 classes."
   ]
  },
  {
   "cell_type": "code",
   "execution_count": null,
   "metadata": {
    "colab": {},
    "colab_type": "code",
    "id": "r30XTZULGh81"
   },
   "outputs": [],
   "source": [
    "nb_categories = 4         # out of 101 classes\n",
    "samples_by_category = 10  # out of about 50 images for each category\n",
    "\n",
    "# Load the data!\n",
    "train_img, train_labels, train, val_img, val_labels, val = get_data(samples_by_category=samples_by_category, dataset_path='./101_ObjectCategories/', nb_categories=nb_categories)\n",
    "\n",
    "# Print the tensors shapes\n",
    "print('Shapes (train) :', train_img[0].shape, train_labels[0].shape)"
   ]
  },
  {
   "cell_type": "markdown",
   "metadata": {
    "colab_type": "text",
    "id": "7kvEuOrXGh85"
   },
   "source": [
    "## 4. Transfer Learning\n",
    "\n",
    "### 4.1. Load a pre-trained model\n",
    "\n",
    "Create a neural network with the Inception architecture. Instead of learning the weights, we use existing weights obtained by (pre-)training the network on a dataset named Imagenet [2] for a classification task. Imagenet consists in 14,197,122 images associated with 1,000 classes, ranging from apples to lakes, radiators, or funambulists (http://image-net.org/explore?wnid=n00324978).\n",
    "\n",
    "We also tweak the network.\n",
    "\n",
    "Note the <code>keras</code> option <code>include_top=False</code>. On the one hand, one can view the first layers, which are close to the raw pixels input, as low-level signal processing units, since they mostly perform corner detection, shape detection or texture detection for instance. On the other hand, the last layers take already high-level representations of the input images and assign them to the desired classes.\n",
    "We keep the first layers and their weights since re-training them will take time but will likely provide very limited value. The high-levels we will later use are more specific to our use case.\n",
    "\n",
    "<code>[2] http://image-net.org</code>"
   ]
  },
  {
   "cell_type": "code",
   "execution_count": null,
   "metadata": {
    "colab": {},
    "colab_type": "code",
    "id": "cYf_MvHJGh85"
   },
   "outputs": [],
   "source": [
    "# create the base pre-trained model\n",
    "# (the pretrained weights are stored in a file located at: https://github.com/fchollet/deep-learning-models/releases/download/v0.5/inception_v3_weights_tf_dim_ordering_tf_kernels_notop.h5)\n",
    "base_model = InceptionV3(weights='imagenet', include_top=False)"
   ]
  },
  {
   "cell_type": "markdown",
   "metadata": {
    "colab_type": "text",
    "id": "kqMxjc3IGh88"
   },
   "source": [
    "Note the parameters count, and how many are learnable:"
   ]
  },
  {
   "cell_type": "code",
   "execution_count": null,
   "metadata": {
    "colab": {},
    "colab_type": "code",
    "id": "LuujcPAoGh89"
   },
   "outputs": [],
   "source": [
    "# print all the layers\n",
    "base_model.summary()"
   ]
  },
  {
   "cell_type": "markdown",
   "metadata": {
    "colab_type": "text",
    "id": "V0l8b5M26YtI"
   },
   "source": [
    "### 4.2. Tweak it"
   ]
  },
  {
   "cell_type": "markdown",
   "metadata": {
    "colab_type": "text",
    "id": "EH7rzExDGh8_"
   },
   "source": [
    "Adapt the network for our own task. Change the class number according to our classes count:"
   ]
  },
  {
   "cell_type": "code",
   "execution_count": null,
   "metadata": {
    "colab": {},
    "colab_type": "code",
    "id": "EgEcA0HwGh9A"
   },
   "outputs": [],
   "source": [
    "# add a global spatial average pooling layer\n",
    "x = base_model.output\n",
    "x = GlobalAveragePooling2D()(x)\n",
    "# let's add a fully-connected layer\n",
    "x = Dense(32, activation='relu')(x)\n",
    "\n",
    "# and a logistic layer -- we have nb_categories classes\n",
    "predictions = Dense(nb_categories, activation='softmax')(x)\n",
    "\n",
    "# this is the model we will train\n",
    "model = Model(inputs=base_model.input, outputs=predictions)\n"
   ]
  },
  {
   "cell_type": "markdown",
   "metadata": {
    "colab_type": "text",
    "id": "HVcWCKLBGh9D"
   },
   "source": [
    "\n",
    "** For now, let's not change (i.e. not train) the \"knowledge\" stored into weights during the pre-training on ImageNet. To this end, we \"freeze\" the weights of all pre-trained layers: only the final layers just added for adapting to our problem will be learnt:**"
   ]
  },
  {
   "cell_type": "code",
   "execution_count": null,
   "metadata": {
    "colab": {},
    "colab_type": "code",
    "id": "VnOtnZtvGh9D"
   },
   "outputs": [],
   "source": [
    "# first: train only the top layers (which were randomly initialized)\n",
    "# i.e. freeze all convolutional InceptionV3 layers\n",
    "for layer in base_model.layers:\n",
    "    layer.trainable = False\n",
    "    \n",
    "# print adapted model\n",
    "model.summary()"
   ]
  },
  {
   "cell_type": "markdown",
   "metadata": {
    "colab_type": "text",
    "id": "1d1pQ8zCGh9F"
   },
   "source": [
    "We now train the model.\n",
    "\n",
    "This means we minimize (using an <code>optimizer</code> algorithm) a function (the cross-entropy $H(p,q) = - \\sum_x p(x) \\log(q(x))$ where $p$ is the approximating distribution and $q$ is the true distribution).\n",
    "\n",
    "The minimization is performed iteratively, in several \"epochs\" (which include the forward pass, the loss function evaluation, the gradient backpropagation and the weights updates, using all examples of the training dataset).\n"
   ]
  },
  {
   "cell_type": "markdown",
   "metadata": {
    "colab_type": "text",
    "id": "p_ggBYK56YtP"
   },
   "source": [
    "### 4.3. Loss function & optimizer"
   ]
  },
  {
   "cell_type": "code",
   "execution_count": null,
   "metadata": {
    "colab": {},
    "colab_type": "code",
    "id": "mgkp2eA-Gh9G"
   },
   "outputs": [],
   "source": [
    "# compile the model (should be done *after* setting layers to non-trainable)\n",
    "model.compile(optimizer='adam', loss='categorical_crossentropy', metrics=['acc'])"
   ]
  },
  {
   "cell_type": "markdown",
   "metadata": {
    "colab_type": "text",
    "id": "pbEg2yaA6YtR"
   },
   "source": [
    "### 4.4. Training"
   ]
  },
  {
   "cell_type": "code",
   "execution_count": null,
   "metadata": {
    "colab": {},
    "colab_type": "code",
    "id": "g1sAy8uAGh9I"
   },
   "outputs": [],
   "source": [
    "# train the model on the new data for a few epochs\n",
    "history = model.fit(train_img, train_labels, batch_size=32, validation_data=(val_img, val_labels), epochs=12)"
   ]
  },
  {
   "cell_type": "markdown",
   "metadata": {
    "colab_type": "text",
    "id": "_liVuzAhGh9K"
   },
   "source": [
    "Display the accuracy and loss on the validation/test set:"
   ]
  },
  {
   "cell_type": "code",
   "execution_count": null,
   "metadata": {
    "colab": {},
    "colab_type": "code",
    "id": "EYa2vc7yGh9L"
   },
   "outputs": [],
   "source": [
    "print(model.metrics_names)\n",
    "print(model.evaluate(val_img, val_labels, verbose=0))"
   ]
  },
  {
   "cell_type": "code",
   "execution_count": null,
   "metadata": {
    "colab": {},
    "colab_type": "code",
    "id": "nOXH_mK6Gh9M"
   },
   "outputs": [],
   "source": [
    "plt.plot(history.history['loss'])\n",
    "plt.plot(history.history['val_loss'])\n",
    "plt.title('Model loss by epoch for %d samples per category' % samples_by_category)\n",
    "plt.ylabel('loss')\n",
    "plt.xlabel('epoch')\n",
    "plt.legend(['train', 'test'], loc='right')\n",
    "plt.show()\n",
    "\n",
    "plt.plot(history.history['acc'])\n",
    "plt.plot(history.history['val_acc'])\n",
    "plt.title('Model accuracy by epoch for %d samples per category' % samples_by_category)\n",
    "plt.ylabel('accuracy')\n",
    "plt.legend(['train', 'test'], loc='right')\n",
    "plt.xlabel('epoch')\n",
    "plt.show()"
   ]
  },
  {
   "cell_type": "markdown",
   "metadata": {
    "colab_type": "text",
    "id": "lM5-Ip7QGh9O"
   },
   "source": [
    "Note that the convNet was relatively quick to train by transfer learning on the new problem, despite its very large size. <br>\n",
    "**NB: if overfitting occurs (ie if validation accuracy stops increasing and even starts to diminish at some point during iterations), then add some regularization: dropout layer and/or a penalty term for high weights values in cost function.**\n"
   ]
  },
  {
   "cell_type": "markdown",
   "metadata": {
    "colab_type": "text",
    "id": "RchMRL5XGh9P"
   },
   "source": [
    "## 5. What's left:"
   ]
  },
  {
   "cell_type": "markdown",
   "metadata": {
    "colab_type": "text",
    "id": "pSonALdfGh9P"
   },
   "source": [
    "**Plot the accuracy of the network after 12 epochs, depending on how many samples PER CLASS are used for the transfer learning (the goal is to check if you can get a result similar to that of the result plot showed at beginning of the notebook.**"
   ]
  },
  {
   "cell_type": "code",
   "execution_count": null,
   "metadata": {
    "colab": {},
    "colab_type": "code",
    "id": "-GaU7oEAGh9Q"
   },
   "outputs": [],
   "source": []
  }
 ],
 "metadata": {
  "accelerator": "GPU",
  "colab": {
   "collapsed_sections": [],
   "name": "LSML19_Transfer_Learning.ipynb",
   "provenance": [],
   "version": "0.3.2"
  },
  "kernelspec": {
   "display_name": "Python 3",
   "language": "python",
   "name": "python3"
  },
  "language_info": {
   "codemirror_mode": {
    "name": "ipython",
    "version": 3
   },
   "file_extension": ".py",
   "mimetype": "text/x-python",
   "name": "python",
   "nbconvert_exporter": "python",
   "pygments_lexer": "ipython3",
   "version": "3.4.3"
  }
 },
 "nbformat": 4,
 "nbformat_minor": 2
}
