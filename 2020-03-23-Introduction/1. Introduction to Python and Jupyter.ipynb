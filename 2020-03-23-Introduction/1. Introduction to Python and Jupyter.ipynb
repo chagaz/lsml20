{
 "cells": [
  {
   "cell_type": "markdown",
   "metadata": {},
   "source": [
    "# Introduction to Python and Jupyter\n",
    "Author: Chloé-Agathe Azencott `chloe-agathe.azencott@mines-paristech.fr`\n",
    "    \n",
    "With many thanks to [Alexandre Gramfort](http://alexandre.gramfort.net/) (Telecom ParisTech), who provided most of the material for this notebook, and [J.R. Johansson](http://dml.riken.jp/~rob/), from whom he took inspiration.\n",
    "\n",
    "__This notebook contains 6 problems. Make sure you have done them before moving on to the next notebook.__"
   ]
  },
  {
   "cell_type": "markdown",
   "metadata": {},
   "source": [
    "## Hello! This is a Jupyter notebook\n",
    "\n",
    "A Jupyter notebook is a web application that allows you to create and share documents (such as this .ipynb notebook) that contain live code, visualizations and explanatory text (with equations).\n",
    "\n",
    "Here are some tips on using a Jupyter notebook:\n",
    "* Each block of text is contained in a _cell_. A cell can be either raw text, code, or markdown text (just as this cell). For more info on markdown syntax, follow the [guide](http://jupyter-notebook.readthedocs.io/en/latest/examples/Notebook/Working%20With%20Markdown%20Cells.html)!\n",
    "* You run a cell by clicking it and hitting Shift+Enter (or the play button in the toolbar).\n",
    "* If you want to create a new empty cell below the one you're running, hit Alt+Enter.\n",
    "\n",
    "Some tips on using a Jupyter notebook with Python:\n",
    "* A Python cell behaves like an interactive python shell! This means that\n",
    "    * hitting Tab will autocomplete the keyword you have started typing\n",
    "    * typing a question mark after a function name will load the interactive help for this function.\n",
    "* A Markdown cell uses the markdown syntax to format text:  http://jupyter-notebook.readthedocs.io/en/latest/examples/Notebook/Working%20With%20Markdown%20Cells.htm\n",
    "* Jupyter has special Python commands (shortcuts, if you wish) called _magics_. For instance, `%bash` will allow you to run bash code, `%paste` will allow you to paste a block of code while retaining its formating, and `%matplotlib inline` will import the visualization library matplotlib, and display its plots inline, that is to say, below the cell. Here's a full list http://ipython.readthedocs.io/en/stable/interactive/magics.html \n",
    "* Learn more about the interactive python shell here: http://ipython.readthedocs.io/en/stable/interactive/tutorial.html\n",
    "\n",
    "For more info on Jupyter: https://jupyter.org/"
   ]
  },
  {
   "cell_type": "markdown",
   "metadata": {},
   "source": [
    "## Foreword: Python 2.7 vs. Python 3\n",
    "This notebook was built using Python 2.7.\n",
    "\n",
    "One of the major differences you'll note if you use Python 3 is that you'll have to add parentheses \n",
    "around the argument of the print function:\n",
    "`print blah` must become `print(blah)`."
   ]
  },
  {
   "cell_type": "markdown",
   "metadata": {},
   "source": [
    "## Installation \n",
    "Everything you need should be installed on your machine. But what if you want to run this lab on your own machine at home? The easiest way to install all what you will need for scientific computing in Python is to install \n",
    "[Anaconda](http://continuum.io/downloads.html).\n",
    "\n",
    "You can also install python and python-pip, and then all required packages with pip."
   ]
  },
  {
   "cell_type": "markdown",
   "metadata": {},
   "source": [
    "## Running Python code\n",
    "Python code can be run either from an interactive python shell, such as the one you get when typing\n",
    "\n",
    "    $ python\n",
    " \n",
    "in a terminal,\n",
    "or \n",
    "\n",
    "    $ ipython\n",
    "\n",
    "which is a much more advanced interactive python shell, with nice functionalities (autocompletion, inline help, etc.)\n",
    "\n",
    "You can also run Python code from within a Jupyter notebook, as below"
   ]
  },
  {
   "cell_type": "code",
   "execution_count": null,
   "metadata": {
    "collapsed": false
   },
   "outputs": [],
   "source": [
    "print \"Welcome to LSML 2018!\""
   ]
  },
  {
   "cell_type": "markdown",
   "metadata": {},
   "source": [
    "You can also save Python code to a Python file, ending in \"`.py`\", and run all lines in this file \n",
    "(save those that start with '`#`' and are comments) by running\n",
    "\n",
    "    $ python my_script.py\n",
    "\n",
    "in the terminal.\n",
    "\n",
    "In a Jupyter notebook, you can preface any command with \"`!`\" to run it from the terminal.\n",
    "\n",
    "Therefore to run a Python code file:"
   ]
  },
  {
   "cell_type": "code",
   "execution_count": null,
   "metadata": {
    "collapsed": false
   },
   "outputs": [],
   "source": [
    "! python my_script.py"
   ]
  },
  {
   "cell_type": "markdown",
   "metadata": {},
   "source": [
    "## Variables in Python\n",
    "\n",
    "Variable names must start with a letter (a-z, A-Z), and can contain letters (a-z, A-Z), digits (0-9), \n",
    "and a few special characters such as - or _.\n",
    "\n",
    "Usage: variable names are usually lower case.\n",
    "\n",
    "Keywords from the langage (`and`, `as`, `class`, `else`, `for`, `if`, etc.) cannot be used as variable names.\n",
    "\n",
    "Python types variables automatically."
   ]
  },
  {
   "cell_type": "code",
   "execution_count": null,
   "metadata": {
    "collapsed": false
   },
   "outputs": [],
   "source": [
    "a = 2 \n",
    "print a\n",
    "print type(a)"
   ]
  },
  {
   "cell_type": "code",
   "execution_count": null,
   "metadata": {
    "collapsed": false
   },
   "outputs": [],
   "source": [
    "b = 2.1\n",
    "print b\n",
    "print type(b)"
   ]
  },
  {
   "cell_type": "code",
   "execution_count": null,
   "metadata": {
    "collapsed": false
   },
   "outputs": [],
   "source": [
    "c = a < b\n",
    "print c\n",
    "print type(c)"
   ]
  },
  {
   "cell_type": "code",
   "execution_count": null,
   "metadata": {
    "collapsed": false
   },
   "outputs": [],
   "source": [
    "d = 'hello world'\n",
    "print d\n",
    "print type(d)"
   ]
  },
  {
   "cell_type": "markdown",
   "metadata": {},
   "source": [
    "## Numbers in Python"
   ]
  },
  {
   "cell_type": "code",
   "execution_count": null,
   "metadata": {
    "collapsed": false
   },
   "outputs": [],
   "source": [
    "# Adding numbers\n",
    "1 + 2 "
   ]
  },
  {
   "cell_type": "code",
   "execution_count": null,
   "metadata": {
    "collapsed": false
   },
   "outputs": [],
   "source": [
    "# Modify a variable in place\n",
    "a = 1\n",
    "a += 2\n",
    "print a"
   ]
  },
  {
   "cell_type": "code",
   "execution_count": null,
   "metadata": {
    "collapsed": false
   },
   "outputs": [],
   "source": [
    "# Multiplying numbers\n",
    "e = a*b\n",
    "print e\n",
    "print type(e)"
   ]
  },
  {
   "cell_type": "code",
   "execution_count": null,
   "metadata": {
    "collapsed": false
   },
   "outputs": [],
   "source": [
    "# Raising numbers to a power\n",
    "2 ** 3"
   ]
  },
  {
   "cell_type": "code",
   "execution_count": null,
   "metadata": {
    "collapsed": false
   },
   "outputs": [],
   "source": [
    "# Modulo \n",
    "8 % 3"
   ]
  },
  {
   "cell_type": "code",
   "execution_count": null,
   "metadata": {
    "collapsed": false
   },
   "outputs": [],
   "source": [
    "# Dividing numbers\n",
    "3 / 2 "
   ]
  },
  {
   "cell_type": "markdown",
   "metadata": {},
   "source": [
    "In the previous example we divided an integer by another integer and got... an integer.\n",
    "The behaviour you expected was probably that of:"
   ]
  },
  {
   "cell_type": "code",
   "execution_count": null,
   "metadata": {
    "collapsed": false
   },
   "outputs": [],
   "source": [
    "3. / 2"
   ]
  },
  {
   "cell_type": "code",
   "execution_count": null,
   "metadata": {
    "collapsed": false
   },
   "outputs": [],
   "source": [
    "float(3) / 2"
   ]
  },
  {
   "cell_type": "markdown",
   "metadata": {},
   "source": [
    "The exact syntax and semantics of the Python language are availble in the Python Langauge Reference: https://docs.python.org/2.7/reference/"
   ]
  },
  {
   "cell_type": "markdown",
   "metadata": {},
   "source": [
    "## Python Standard Library and modules\n",
    "Python's functions are organized by _modules_. The Python Standard Library contains the modules that are distributed with  Python (i.e. that you can use without installing anything additional) and covers lots of functionalities.\n",
    "\n",
    "The full reference of the Python Standard Library is available at https://docs.python.org/2.7/library/\n",
    "\n",
    "Before using a module you must import it:"
   ]
  },
  {
   "cell_type": "code",
   "execution_count": null,
   "metadata": {
    "collapsed": true
   },
   "outputs": [],
   "source": [
    "import math"
   ]
  },
  {
   "cell_type": "code",
   "execution_count": null,
   "metadata": {
    "collapsed": false
   },
   "outputs": [],
   "source": [
    "print math.cos(2 * math.pi)"
   ]
  },
  {
   "cell_type": "markdown",
   "metadata": {},
   "source": [
    "You can also only import the methods you need:"
   ]
  },
  {
   "cell_type": "code",
   "execution_count": null,
   "metadata": {
    "collapsed": false
   },
   "outputs": [],
   "source": [
    "from math import cos, pi\n",
    "print cos(2 * pi)"
   ]
  },
  {
   "cell_type": "markdown",
   "metadata": {},
   "source": [
    "If you'd rather keep track of which module your functions come from, but find the module name a bit long, you can use a nickname for your module when importing it."
   ]
  },
  {
   "cell_type": "code",
   "execution_count": null,
   "metadata": {
    "collapsed": false
   },
   "outputs": [],
   "source": [
    "import math as m\n",
    "print m.cos(2 * m.pi)"
   ]
  },
  {
   "cell_type": "markdown",
   "metadata": {},
   "source": [
    "To know what functions are available in a module you have imported:"
   ]
  },
  {
   "cell_type": "code",
   "execution_count": null,
   "metadata": {
    "collapsed": false
   },
   "outputs": [],
   "source": [
    "import math\n",
    "print dir(math)"
   ]
  },
  {
   "cell_type": "markdown",
   "metadata": {},
   "source": [
    "To get help on a specific function:"
   ]
  },
  {
   "cell_type": "code",
   "execution_count": null,
   "metadata": {
    "collapsed": false
   },
   "outputs": [],
   "source": [
    "help(math.log)"
   ]
  },
  {
   "cell_type": "markdown",
   "metadata": {},
   "source": [
    "Or, in ipython or a Jupyter notebook:"
   ]
  },
  {
   "cell_type": "code",
   "execution_count": null,
   "metadata": {
    "collapsed": true
   },
   "outputs": [],
   "source": [
    "math.log?"
   ]
  },
  {
   "cell_type": "markdown",
   "metadata": {},
   "source": [
    "## Problem 1.1\n",
    "Write code to compute the first power of 2 that is strictly greater than a given integer n.\n",
    "For example:\n",
    "* if n=7, the code must print 8\n",
    "* if n=8, the code must print 8\n",
    "* if n=9, the code must print 16"
   ]
  },
  {
   "cell_type": "code",
   "execution_count": null,
   "metadata": {
    "collapsed": false
   },
   "outputs": [],
   "source": [
    "n = 7\n",
    "# TODO"
   ]
  },
  {
   "cell_type": "markdown",
   "metadata": {},
   "source": [
    "## Booleans"
   ]
  },
  {
   "cell_type": "code",
   "execution_count": null,
   "metadata": {
    "collapsed": false
   },
   "outputs": [],
   "source": [
    "# Boolean operators\n",
    "print True and False\n",
    "print True or False\n",
    "print not False"
   ]
  },
  {
   "cell_type": "code",
   "execution_count": null,
   "metadata": {
    "collapsed": false
   },
   "outputs": [],
   "source": [
    "# Strictly less than\n",
    "print 2 < 1"
   ]
  },
  {
   "cell_type": "code",
   "execution_count": null,
   "metadata": {
    "collapsed": false
   },
   "outputs": [],
   "source": [
    "# Strictly greater than\n",
    "print 2 > 1\n",
    "print 2 > 2"
   ]
  },
  {
   "cell_type": "code",
   "execution_count": null,
   "metadata": {
    "collapsed": false
   },
   "outputs": [],
   "source": [
    "# Greater than or equal to\n",
    "print 2 >= 2"
   ]
  },
  {
   "cell_type": "code",
   "execution_count": null,
   "metadata": {
    "collapsed": false
   },
   "outputs": [],
   "source": [
    "# Less than or equal to\n",
    "print 2 <= 2"
   ]
  },
  {
   "cell_type": "code",
   "execution_count": null,
   "metadata": {
    "collapsed": false
   },
   "outputs": [],
   "source": [
    "# Not equal to\n",
    "print 2 != 3"
   ]
  },
  {
   "cell_type": "code",
   "execution_count": null,
   "metadata": {
    "collapsed": false
   },
   "outputs": [],
   "source": [
    "# Equal to\n",
    "print 2 == 3"
   ]
  },
  {
   "cell_type": "code",
   "execution_count": null,
   "metadata": {
    "collapsed": false
   },
   "outputs": [],
   "source": [
    "print 2 == 2.0"
   ]
  },
  {
   "cell_type": "code",
   "execution_count": null,
   "metadata": {
    "collapsed": false
   },
   "outputs": [],
   "source": [
    "print not 2 == 3"
   ]
  },
  {
   "cell_type": "code",
   "execution_count": null,
   "metadata": {
    "collapsed": false
   },
   "outputs": [],
   "source": [
    "print int(True)\n",
    "print 1 == True"
   ]
  },
  {
   "cell_type": "code",
   "execution_count": null,
   "metadata": {
    "collapsed": false
   },
   "outputs": [],
   "source": [
    "print int(False)\n",
    "print 0 == False"
   ]
  },
  {
   "cell_type": "markdown",
   "metadata": {},
   "source": [
    "## Strings"
   ]
  },
  {
   "cell_type": "code",
   "execution_count": null,
   "metadata": {
    "collapsed": false
   },
   "outputs": [],
   "source": [
    "s = 'Hello LSML!'\n",
    "print s\n",
    "s = \"Hello LSML!\"\n",
    "print s\n",
    "s = 'Hello \"LSML\"!'\n",
    "print s\n",
    "print type(s)"
   ]
  },
  {
   "cell_type": "markdown",
   "metadata": {},
   "source": [
    "### Substrings\n",
    "You can extract a substring from a string using the following syntax:\n",
    "    \n",
    "    s[start:stop]\n",
    "\n",
    "* `start` is the first index, __included__\n",
    "* `stop` is the lst index, __excluded__\n",
    "* __Indices start at 0 in Python__"
   ]
  },
  {
   "cell_type": "code",
   "execution_count": null,
   "metadata": {
    "collapsed": false
   },
   "outputs": [],
   "source": [
    "# First index\n",
    "print s[0:1]\n",
    "# Equivalently\n",
    "print s[0]"
   ]
  },
  {
   "cell_type": "code",
   "execution_count": null,
   "metadata": {
    "collapsed": false
   },
   "outputs": [],
   "source": [
    "# Last index\n",
    "print s[12:13]\n",
    "# Equivalently\n",
    "print s[12]\n",
    "# Or again\n",
    "print s[-1]\n",
    "# Or again\n",
    "print s[-1:13]"
   ]
  },
  {
   "cell_type": "code",
   "execution_count": null,
   "metadata": {
    "collapsed": false
   },
   "outputs": [],
   "source": [
    "start, stop = 1, 5\n",
    "ss = s[start:stop]\n",
    "\n",
    "print (stop-start)\n",
    "print len(ss)"
   ]
  },
  {
   "cell_type": "code",
   "execution_count": null,
   "metadata": {
    "collapsed": false
   },
   "outputs": [],
   "source": [
    "print len(\"é\")\n",
    "print len(u\"é\") # Convert the string to unicode first"
   ]
  },
  {
   "cell_type": "code",
   "execution_count": null,
   "metadata": {
    "collapsed": false
   },
   "outputs": [],
   "source": [
    "# If you don't use start, it will be implied that it is 0\n",
    "print s[:7]\n",
    "\n",
    "# If you don't use stop, it will be implied that it is the end\n",
    "print s[7:]"
   ]
  },
  {
   "cell_type": "markdown",
   "metadata": {},
   "source": [
    "A technique called __slicing__ allows you to define a step with the following syntax:\n",
    "\n",
    "    s[start:stop:step]"
   ]
  },
  {
   "cell_type": "code",
   "execution_count": null,
   "metadata": {
    "collapsed": false
   },
   "outputs": [],
   "source": [
    "s[0::2]"
   ]
  },
  {
   "cell_type": "markdown",
   "metadata": {},
   "source": [
    "## Problem 1.2\n",
    "Slice the string made of all consecutive letters of the alphabet to generate the following substring: \n",
    "    \n",
    "    cfilorux"
   ]
  },
  {
   "cell_type": "code",
   "execution_count": null,
   "metadata": {
    "collapsed": false
   },
   "outputs": [],
   "source": [
    "import string\n",
    "alphabet = string.ascii_lowercase\n",
    "# TODO"
   ]
  },
  {
   "cell_type": "markdown",
   "metadata": {},
   "source": [
    "### Formatting strings"
   ]
  },
  {
   "cell_type": "code",
   "execution_count": null,
   "metadata": {
    "collapsed": false
   },
   "outputs": [],
   "source": [
    "print \"string1\", \"string2\" # add spaces between strings"
   ]
  },
  {
   "cell_type": "code",
   "execution_count": null,
   "metadata": {
    "collapsed": false
   },
   "outputs": [],
   "source": [
    "print \"string1\" + \"string2\" # concatenation without spaces"
   ]
  },
  {
   "cell_type": "code",
   "execution_count": null,
   "metadata": {
    "collapsed": false
   },
   "outputs": [],
   "source": [
    "print \"string1\" * 2"
   ]
  },
  {
   "cell_type": "code",
   "execution_count": null,
   "metadata": {
    "collapsed": false
   },
   "outputs": [],
   "source": [
    "print \"string1\", 1, False # converts all variables to strings"
   ]
  },
  {
   "cell_type": "code",
   "execution_count": null,
   "metadata": {
    "collapsed": false
   },
   "outputs": [],
   "source": [
    "a = 1.00002\n",
    "print \"value = \", a\n",
    "print \"value = \" + str(a)\n",
    "print \"\"\n",
    "\n",
    "print \"value = %s\" % a     # %s = string\n",
    "print \"value = %e\" % a     # %e = engineering notation\n",
    "print \"value = %.2e\" % a   # engineering notation with 2 significant digits\n",
    "print \"value = %.2f\" % a   # float with 2 significant digits\n",
    "print \"value = %.15f\" % a  # float with 15 significant digits \n",
    "print \"value = %3d\" % a    # integer (3 digits)"
   ]
  },
  {
   "cell_type": "code",
   "execution_count": null,
   "metadata": {
    "collapsed": false
   },
   "outputs": [],
   "source": [
    "print \"value1 = %.2f and value2 = %d\" % (2.150001, 7)"
   ]
  },
  {
   "cell_type": "code",
   "execution_count": null,
   "metadata": {
    "collapsed": false
   },
   "outputs": [],
   "source": [
    "s = \"%s is approximately equal to %.2e\"\n",
    "\n",
    "print s % (\"pi\", math.pi)\n",
    "print s % (\"e\", math.exp(1.))"
   ]
  },
  {
   "cell_type": "markdown",
   "metadata": {},
   "source": [
    "## Lists\n",
    "Lists are very similar to strings, except that elements, instead of being characters, can be of any type."
   ]
  },
  {
   "cell_type": "code",
   "execution_count": null,
   "metadata": {
    "collapsed": false
   },
   "outputs": [],
   "source": [
    "my_list = [1, 2, 3, 4, 'five']\n",
    "print my_list\n",
    "print type(my_list)"
   ]
  },
  {
   "cell_type": "markdown",
   "metadata": {},
   "source": [
    "Slicing works exactly the same as with strings."
   ]
  },
  {
   "cell_type": "code",
   "execution_count": null,
   "metadata": {
    "collapsed": false
   },
   "outputs": [],
   "source": [
    "print my_list[0], my_list[-1]\n",
    "print my_list[-1:0:-1]"
   ]
  },
  {
   "cell_type": "code",
   "execution_count": null,
   "metadata": {
    "collapsed": false
   },
   "outputs": [],
   "source": [
    "print type(my_list[0])\n",
    "print type(my_list[-1])"
   ]
  },
  {
   "cell_type": "markdown",
   "metadata": {},
   "source": [
    "A list can contain another list:"
   ]
  },
  {
   "cell_type": "code",
   "execution_count": null,
   "metadata": {
    "collapsed": false
   },
   "outputs": [],
   "source": [
    "my_list = [[1, 2, 3], [4, 5, 6]]\n",
    "print my_list"
   ]
  },
  {
   "cell_type": "markdown",
   "metadata": {},
   "source": [
    "`range` can be used to generate a list of integers:"
   ]
  },
  {
   "cell_type": "code",
   "execution_count": null,
   "metadata": {
    "collapsed": false
   },
   "outputs": [],
   "source": [
    "start = 10\n",
    "stop = 20\n",
    "step = 2\n",
    "print range(start, stop, step)"
   ]
  },
  {
   "cell_type": "code",
   "execution_count": null,
   "metadata": {
    "collapsed": false
   },
   "outputs": [],
   "source": [
    "# Iterate backwards\n",
    "print range(20, 10, -2)"
   ]
  },
  {
   "cell_type": "code",
   "execution_count": null,
   "metadata": {
    "collapsed": false
   },
   "outputs": [],
   "source": [
    "# Implicit start (=0) and step (=1)\n",
    "print range(7)"
   ]
  },
  {
   "cell_type": "code",
   "execution_count": null,
   "metadata": {
    "collapsed": false
   },
   "outputs": [],
   "source": [
    "# Sort a list in place\n",
    "my_list = range(20, 10, -2)\n",
    "my_list.sort()\n",
    "print my_list"
   ]
  },
  {
   "cell_type": "markdown",
   "metadata": {},
   "source": [
    "### Add/remove elements to/from a list"
   ]
  },
  {
   "cell_type": "code",
   "execution_count": null,
   "metadata": {
    "collapsed": true
   },
   "outputs": [],
   "source": [
    "# Create an empty list\n",
    "l = []"
   ]
  },
  {
   "cell_type": "code",
   "execution_count": null,
   "metadata": {
    "collapsed": false
   },
   "outputs": [],
   "source": [
    "# Add items with 'append'\n",
    "l.append(\"A\")\n",
    "print l"
   ]
  },
  {
   "cell_type": "code",
   "execution_count": null,
   "metadata": {
    "collapsed": false
   },
   "outputs": [],
   "source": [
    "# Concatenate lists\n",
    "m = ['A', 'B', 'C']\n",
    "print l+m"
   ]
  },
  {
   "cell_type": "code",
   "execution_count": null,
   "metadata": {
    "collapsed": false
   },
   "outputs": [],
   "source": [
    "print l\n",
    "l.extend(m)\n",
    "print l"
   ]
  },
  {
   "cell_type": "code",
   "execution_count": null,
   "metadata": {
    "collapsed": false
   },
   "outputs": [],
   "source": [
    "print l * 2"
   ]
  },
  {
   "cell_type": "code",
   "execution_count": null,
   "metadata": {
    "collapsed": false
   },
   "outputs": [],
   "source": [
    "# Modify an item\n",
    "l[0] = 'D'\n",
    "print l"
   ]
  },
  {
   "cell_type": "code",
   "execution_count": null,
   "metadata": {
    "collapsed": false
   },
   "outputs": [],
   "source": [
    "# Modify a slice\n",
    "l[:2] = ['E', 'E', 'E']\n",
    "print l"
   ]
  },
  {
   "cell_type": "code",
   "execution_count": null,
   "metadata": {
    "collapsed": false
   },
   "outputs": [],
   "source": [
    "# Insert an item to a specific position\n",
    "l.insert(0, \"F\")\n",
    "print l\n",
    "l.insert(4, 'G')\n",
    "print l"
   ]
  },
  {
   "cell_type": "code",
   "execution_count": null,
   "metadata": {
    "collapsed": false
   },
   "outputs": [],
   "source": [
    "# Remove the first occurence of an item \n",
    "l.remove('E')\n",
    "print l"
   ]
  },
  {
   "cell_type": "code",
   "execution_count": null,
   "metadata": {
    "collapsed": false
   },
   "outputs": [],
   "source": [
    "# Remove an item at a specific position\n",
    "del l[1]\n",
    "print l"
   ]
  },
  {
   "cell_type": "code",
   "execution_count": null,
   "metadata": {
    "collapsed": false
   },
   "outputs": [],
   "source": [
    "# Remove the last item of a list\n",
    "l.pop()\n",
    "print l"
   ]
  },
  {
   "cell_type": "code",
   "execution_count": null,
   "metadata": {
    "collapsed": false
   },
   "outputs": [],
   "source": [
    "# Does an item belong to a list?\n",
    "print 'F' in l\n",
    "print 'A' in l\n",
    "print l.index('F')\n",
    "print l.index('A')"
   ]
  },
  {
   "cell_type": "markdown",
   "metadata": {},
   "source": [
    "## Tuples\n",
    "Tuples are like lists, but they are immutable: they cannot be modified once created."
   ]
  },
  {
   "cell_type": "code",
   "execution_count": null,
   "metadata": {
    "collapsed": false
   },
   "outputs": [],
   "source": [
    "t = (0, 1)\n",
    "print t\n",
    "print type(t)"
   ]
  },
  {
   "cell_type": "code",
   "execution_count": null,
   "metadata": {
    "collapsed": false
   },
   "outputs": [],
   "source": [
    "t = 0, 1, 7\n",
    "print t\n",
    "print type(t)"
   ]
  },
  {
   "cell_type": "code",
   "execution_count": null,
   "metadata": {
    "collapsed": false
   },
   "outputs": [],
   "source": [
    "t = 0, 1, 'seven'\n",
    "print t\n",
    "print type(t)"
   ]
  },
  {
   "cell_type": "code",
   "execution_count": null,
   "metadata": {
    "collapsed": false
   },
   "outputs": [],
   "source": [
    "# Does an item belong to a tuple?\n",
    "print 0 in t\n",
    "print 'banana' in t\n",
    "print t.index(1)\n",
    "print t.index('banana')"
   ]
  },
  {
   "cell_type": "markdown",
   "metadata": {},
   "source": [
    "## Dictionaries\n",
    "Dictionaries are used to store _key_, _value_ pairs of matched items."
   ]
  },
  {
   "cell_type": "code",
   "execution_count": null,
   "metadata": {
    "collapsed": false
   },
   "outputs": [],
   "source": [
    "d = {\"parameter1\" : 1.0, \n",
    "     \"parameter2\": 2.0}\n",
    "print d\n",
    "print type(d)"
   ]
  },
  {
   "cell_type": "code",
   "execution_count": null,
   "metadata": {
    "collapsed": false
   },
   "outputs": [],
   "source": [
    "d = dict(parameter1=1.0, \n",
    "         parameter2=1.0)\n",
    "print d\n",
    "print type(d)"
   ]
  },
  {
   "cell_type": "code",
   "execution_count": null,
   "metadata": {
    "collapsed": false
   },
   "outputs": [],
   "source": [
    "# Add a key-value pair\n",
    "d['parameter3'] = 3.0\n",
    "print d"
   ]
  },
  {
   "cell_type": "code",
   "execution_count": null,
   "metadata": {
    "collapsed": false
   },
   "outputs": [],
   "source": [
    "# Remove a key-value pair\n",
    "del d['parameter2']\n",
    "print d"
   ]
  },
  {
   "cell_type": "code",
   "execution_count": null,
   "metadata": {
    "collapsed": false
   },
   "outputs": [],
   "source": [
    "# Does a key belong to a dictionary?\n",
    "print 'parameter1' in d\n",
    "print 'banana' in d\n",
    "\n",
    "print d.has_key('parameter1')\n",
    "print d.has_key('banana')\n",
    "\n",
    "print d['parameter1']\n",
    "print d['banana']"
   ]
  },
  {
   "cell_type": "markdown",
   "metadata": {},
   "source": [
    "## Branching"
   ]
  },
  {
   "cell_type": "code",
   "execution_count": null,
   "metadata": {
    "collapsed": false
   },
   "outputs": [],
   "source": [
    "a = 3\n",
    "b = 2\n",
    "\n",
    "if a < b:\n",
    "    print \"a is strictly less than b\"\n",
    "elif a > b:\n",
    "    print \"b is strictly less than a\"\n",
    "else:\n",
    "    print \"b is equal to a\""
   ]
  },
  {
   "cell_type": "code",
   "execution_count": null,
   "metadata": {
    "collapsed": false
   },
   "outputs": [],
   "source": [
    "# Equivalently\n",
    "\n",
    "statement1 = a < b\n",
    "statement2 = a > b\n",
    "\n",
    "if statement1:\n",
    "    print \"a is strictly less than b\"\n",
    "elif statement2:\n",
    "    print \"b is strictly less than a\"\n",
    "else:\n",
    "    print \"b is equal to a\""
   ]
  },
  {
   "cell_type": "markdown",
   "metadata": {},
   "source": [
    "__Indents are mandatory in Python__, as they influence how the code is being executed."
   ]
  },
  {
   "cell_type": "code",
   "execution_count": null,
   "metadata": {
    "collapsed": false
   },
   "outputs": [],
   "source": [
    "statement1 = True\n",
    "statement2 = True\n",
    "\n",
    "if statement1:\n",
    "    if statement2:\n",
    "        print(\"both statement1 and statement2 are True\")"
   ]
  },
  {
   "cell_type": "code",
   "execution_count": null,
   "metadata": {
    "collapsed": false
   },
   "outputs": [],
   "source": [
    "if statement1:\n",
    "    if statement2:\n",
    "        print(\"both statement1 and statement2 are True\")"
   ]
  },
  {
   "cell_type": "code",
   "execution_count": null,
   "metadata": {
    "collapsed": false
   },
   "outputs": [],
   "source": [
    "if not statement1:\n",
    "    print(\"printed only if statement1 is False\")\n",
    "    print(\"printed only if statement1 is False\")\n",
    "print(\"printed no matter what\")"
   ]
  },
  {
   "cell_type": "markdown",
   "metadata": {},
   "source": [
    "## For loops\n",
    "\n",
    "Loops iterate over the item of a list:"
   ]
  },
  {
   "cell_type": "code",
   "execution_count": null,
   "metadata": {
    "collapsed": false
   },
   "outputs": [],
   "source": [
    "for x in [1, 2, 3]:\n",
    "    print x"
   ]
  },
  {
   "cell_type": "code",
   "execution_count": null,
   "metadata": {
    "collapsed": false
   },
   "outputs": [],
   "source": [
    "for x in range(4):\n",
    "    print x"
   ]
  },
  {
   "cell_type": "code",
   "execution_count": null,
   "metadata": {
    "collapsed": false
   },
   "outputs": [],
   "source": [
    "for x in \"python\":\n",
    "    print x"
   ]
  },
  {
   "cell_type": "code",
   "execution_count": null,
   "metadata": {
    "collapsed": false
   },
   "outputs": [],
   "source": [
    "# Iterate over a dictionary:\n",
    "for key, value in d.iteritems():\n",
    "    print key, \":\", value"
   ]
  },
  {
   "cell_type": "code",
   "execution_count": null,
   "metadata": {
    "collapsed": false
   },
   "outputs": [],
   "source": [
    "for key in d:\n",
    "    print key, \":\", d[key]"
   ]
  },
  {
   "cell_type": "code",
   "execution_count": null,
   "metadata": {
    "collapsed": false
   },
   "outputs": [],
   "source": [
    "for value in d.values():\n",
    "    print value"
   ]
  },
  {
   "cell_type": "markdown",
   "metadata": {},
   "source": [
    "To have access to both the value and the index of the element you are looping over, use `enumerate`:"
   ]
  },
  {
   "cell_type": "code",
   "execution_count": null,
   "metadata": {
    "collapsed": false
   },
   "outputs": [],
   "source": [
    "# Not very pythonic\n",
    "for i in range(len(l)):\n",
    "    print \"%d: %s\" % (i, l[i])"
   ]
  },
  {
   "cell_type": "code",
   "execution_count": null,
   "metadata": {
    "collapsed": false
   },
   "outputs": [],
   "source": [
    "# With enumerate:\n",
    "for i, x in enumerate(l):\n",
    "    print \"%d: %s\" % (i, x)"
   ]
  },
  {
   "cell_type": "markdown",
   "metadata": {},
   "source": [
    "## Problem 1.3\n",
    "Create a dictionary that counts the occurrence of each character in the string `Hello LSML 2018!!`."
   ]
  },
  {
   "cell_type": "code",
   "execution_count": null,
   "metadata": {
    "collapsed": false
   },
   "outputs": [],
   "source": [
    "s = 'Hello LSML 2018!!'\n",
    "my_dict = {}\n",
    "# TODO \n",
    "print my_dict    "
   ]
  },
  {
   "cell_type": "markdown",
   "metadata": {},
   "source": [
    "## Problem 1.4\n",
    "Write code that will encode a message by replacing \"e\" with \"a\", \"o\" with e, and \"l\" with m.\n",
    "Apply it to the message 'Hello world!'\n",
    "\n",
    "Write code that will decode the message.\n",
    "Apply it to the message 'Pythen is ceem!'"
   ]
  },
  {
   "cell_type": "code",
   "execution_count": null,
   "metadata": {
    "collapsed": false
   },
   "outputs": [],
   "source": [
    "code_dict = {'e': 'a', 'o':'e', 'l': 'm'}\n",
    "s = 'Hello world!'\n",
    "\n",
    "s_coded = ''\n",
    "# TODO \n",
    "print s_coded"
   ]
  },
  {
   "cell_type": "code",
   "execution_count": null,
   "metadata": {
    "collapsed": false
   },
   "outputs": [],
   "source": [
    "decode_dict = {}\n",
    "# TODO\n",
    "\n",
    "s_coded = 'Pythen is ceem!'\n",
    "\n",
    "s_decoded = ''\n",
    "# TODO \n",
    "print s_decoded"
   ]
  },
  {
   "cell_type": "markdown",
   "metadata": {},
   "source": [
    "### List comprehensions\n",
    "\n",
    "List comprehensions can be used to construct lists with for loops, in a very compact way."
   ]
  },
  {
   "cell_type": "code",
   "execution_count": null,
   "metadata": {
    "collapsed": false
   },
   "outputs": [],
   "source": [
    "# Long version\n",
    "l = []\n",
    "for x in range(5):\n",
    "    l.append(x**2)\n",
    "print l"
   ]
  },
  {
   "cell_type": "code",
   "execution_count": null,
   "metadata": {
    "collapsed": false
   },
   "outputs": [],
   "source": [
    "# Short version, with list comprehension\n",
    "l = [x**2 for x in range(5)]\n",
    "print l"
   ]
  },
  {
   "cell_type": "markdown",
   "metadata": {},
   "source": [
    "## While loops"
   ]
  },
  {
   "cell_type": "code",
   "execution_count": null,
   "metadata": {
    "collapsed": false
   },
   "outputs": [],
   "source": [
    "i = 0\n",
    "while i < 5:\n",
    "    print i\n",
    "    i += 1\n",
    "    \n",
    "print \"Done.\""
   ]
  },
  {
   "cell_type": "markdown",
   "metadata": {},
   "source": [
    "## Problem 1.5\n",
    "Compute an approximation of $\\pi$ using Wallis' product: $\\pi = 2 \\prod_{n=1}^\\infty \\frac{4 n^2}{4 n^2 - 1}$"
   ]
  },
  {
   "cell_type": "code",
   "execution_count": null,
   "metadata": {
    "collapsed": false
   },
   "outputs": [],
   "source": [
    "# TODO  "
   ]
  },
  {
   "cell_type": "markdown",
   "metadata": {},
   "source": [
    "## Functions"
   ]
  },
  {
   "cell_type": "code",
   "execution_count": null,
   "metadata": {
    "collapsed": true
   },
   "outputs": [],
   "source": [
    "def my_1st_function():\n",
    "    print \"Welcome to LSML 2018!\""
   ]
  },
  {
   "cell_type": "code",
   "execution_count": null,
   "metadata": {
    "collapsed": false
   },
   "outputs": [],
   "source": [
    "my_1st_function()"
   ]
  },
  {
   "cell_type": "code",
   "execution_count": null,
   "metadata": {
    "collapsed": false
   },
   "outputs": [],
   "source": [
    "print type(my_1st_function)"
   ]
  },
  {
   "cell_type": "markdown",
   "metadata": {},
   "source": [
    "Functions can be documented with docstrings:"
   ]
  },
  {
   "cell_type": "code",
   "execution_count": null,
   "metadata": {
    "collapsed": true
   },
   "outputs": [],
   "source": [
    "def my_1st_function():\n",
    "    \"\"\"\n",
    "    Display a welcome message. \n",
    "    \"\"\"\n",
    "    print \"Welcome to LSML 2018!\""
   ]
  },
  {
   "cell_type": "code",
   "execution_count": null,
   "metadata": {
    "collapsed": false
   },
   "outputs": [],
   "source": [
    "help(my_1st_function)"
   ]
  },
  {
   "cell_type": "code",
   "execution_count": null,
   "metadata": {
    "collapsed": true
   },
   "outputs": [],
   "source": [
    "# A function can return one value.\n",
    "def string_length(s):\n",
    "    \"\"\"\n",
    "    Return the length of a string.\n",
    "    \"\"\"\n",
    "    return len(s)"
   ]
  },
  {
   "cell_type": "code",
   "execution_count": null,
   "metadata": {
    "collapsed": false
   },
   "outputs": [],
   "source": [
    "x = string_length(\"Welcome to LSML 2018!\")\n",
    "print x"
   ]
  },
  {
   "cell_type": "code",
   "execution_count": null,
   "metadata": {
    "collapsed": false
   },
   "outputs": [],
   "source": [
    "# A function can return several values as a tuple.\n",
    "def powers(n):\n",
    "    \"\"\"\n",
    "    Returns the first 3 powers of n.\n",
    "    \"\"\"\n",
    "    return n ** 2, n ** 3, n ** 4\n",
    "\n",
    "print powers(3)\n",
    "print type(powers(3))"
   ]
  },
  {
   "cell_type": "code",
   "execution_count": null,
   "metadata": {
    "collapsed": true
   },
   "outputs": [],
   "source": [
    "# A function can have default argument\n",
    "def powers(n, verbose=False):\n",
    "    if verbose:\n",
    "        print \"Returning the first 3 powers of %d\" % n\n",
    "    return n ** 2, n ** 3, n ** 4"
   ]
  },
  {
   "cell_type": "code",
   "execution_count": null,
   "metadata": {
    "collapsed": false
   },
   "outputs": [],
   "source": [
    "print powers(3)"
   ]
  },
  {
   "cell_type": "code",
   "execution_count": null,
   "metadata": {
    "collapsed": false
   },
   "outputs": [],
   "source": [
    "print powers(3, verbose=True)"
   ]
  },
  {
   "cell_type": "code",
   "execution_count": null,
   "metadata": {
    "collapsed": false
   },
   "outputs": [],
   "source": [
    "print powers(verbose=True, n=3)"
   ]
  },
  {
   "cell_type": "markdown",
   "metadata": {},
   "source": [
    "## Problem 1.6 — Quicksort\n",
    "\n",
    "Here's the pseudocode for quicksort (source: [Wikipedia](https://en.wikipedia.org/wiki/Quicksort)):\n",
    "\n",
    "    algorithm quicksort(A, low, high) is\n",
    "    if low < high then\n",
    "        p := partition(A, low, high)\n",
    "        quicksort(A, low, p – 1)\n",
    "        quicksort(A, p + 1, high)\n",
    "\n",
    "\n",
    "    algorithm partition(A, low, high) is\n",
    "    pivot := A[high]\n",
    "    i := low - 1    \n",
    "    for j := low to high - 1 do\n",
    "        if A[j] ≤ pivot then\n",
    "            i := i + 1\n",
    "            swap A[i] with A[j]\n",
    "    swap A[i+1] with A[high]\n",
    "    return i + 1\n",
    "    \n",
    "Transform this pseudocode in Python code."
   ]
  },
  {
   "cell_type": "code",
   "execution_count": null,
   "metadata": {
    "collapsed": true
   },
   "outputs": [],
   "source": [
    "def quicksort(A, low, high):\n",
    "    \"\"\"\n",
    "    Quicksort list A between positions low and high.\n",
    "    To quicksort entire list, apply to low=0 and high=len(A)-1.\n",
    "    \"\"\"\n",
    "    # TODO\n",
    "        \n",
    "def swap(A, i, j):\n",
    "    \"\"\"\n",
    "    Swap elements at position i and at position j in list A.\n",
    "    \"\"\"\n",
    "    # TODO\n",
    "        \n",
    "def partition(A, low, high):\n",
    "    \"\"\"\n",
    "    Partition scheme.\n",
    "    \"\"\"\n",
    "    # TODO"
   ]
  },
  {
   "cell_type": "code",
   "execution_count": null,
   "metadata": {
    "collapsed": false
   },
   "outputs": [],
   "source": [
    "# Test your algorithm\n",
    "A = [1, 3, 0, 2, 7, 4]\n",
    "quicksort(A, 0, len(A)-1)\n",
    "print A"
   ]
  },
  {
   "cell_type": "markdown",
   "metadata": {},
   "source": [
    "## Classes \n",
    "\n",
    "Classes are possibly complex structures that allows us to represent an object (by its _attributes_)\n",
    "and the operations that can be applied to it (they are the class' _methods_). \n",
    "They are the central element of object-oriented programming.\n",
    "\n",
    "In Python classes are defined using `class`. \n",
    "\n",
    "The first argument of a method must be `self`. It's a mandatory self reference.\n",
    "\n",
    "Some specific methods have reserved names:\n",
    "* `__init__`: creates an instance of the object\n",
    "* `_str__`: transform an instance of the object into a string, for instance when called by `print`\n",
    "* and much more, see http://docs.python.org/2/reference/datamodel.html#special-method-names.\n"
   ]
  },
  {
   "cell_type": "code",
   "execution_count": null,
   "metadata": {
    "collapsed": true
   },
   "outputs": [],
   "source": [
    "# Let us create a class for 2D points.\n",
    "class Point(object):\n",
    "    \"\"\"\n",
    "    Class to represent a point in 2D space.\n",
    "    \"\"\"\n",
    "    def __init__(self, x_value, y_value):\n",
    "        \"\"\"\n",
    "        Create a new point with coordinates (x, y)\n",
    "        \"\"\"\n",
    "        self.x = x_value\n",
    "        self.y = y_value\n",
    "        \n",
    "    def translate(self, dx, dy):\n",
    "        \"\"\"\n",
    "        Translate the point by dx along the x axis and dy along the y axis.\n",
    "        \"\"\"\n",
    "        self.x += dx\n",
    "        self.y += dy\n",
    "        \n",
    "    def __str__(self):\n",
    "        \"\"\"\n",
    "        Tansform an instance of the object into a string.\n",
    "        \"\"\"\n",
    "        return \"Point of coordinates (%f, %f)\" % (self.x, self.y)"
   ]
  },
  {
   "cell_type": "code",
   "execution_count": null,
   "metadata": {
    "collapsed": false
   },
   "outputs": [],
   "source": [
    "# Create a new Point instance:\n",
    "p1 = Point(0, 0) # calls __init__\n",
    "p2 = Point(x_value=1, y_value=2)\n",
    "\n",
    "print p1 # calls __str__\n",
    "print type(p1)"
   ]
  },
  {
   "cell_type": "code",
   "execution_count": null,
   "metadata": {
    "collapsed": false
   },
   "outputs": [],
   "source": [
    "# Translate the point\n",
    "print p2\n",
    "p2.translate(-1, -1)\n",
    "print p2"
   ]
  },
  {
   "cell_type": "markdown",
   "metadata": {},
   "source": [
    "## Exceptions\n",
    "In Python, errors are managed by _Exceptions_: an error throws an _Exception_ and the code stops running."
   ]
  },
  {
   "cell_type": "code",
   "execution_count": null,
   "metadata": {
    "collapsed": false
   },
   "outputs": [],
   "source": [
    "def add_one(n):\n",
    "    \"\"\"\n",
    "    Add one to an integer.\n",
    "    \"\"\"\n",
    "    if type(n) != type(1): \n",
    "        # n is not an integer\n",
    "        raise Exception(\"Invalid argument!\")\n",
    "    \n",
    "    return n+1\n",
    "\n",
    "add_one(1.1)"
   ]
  },
  {
   "cell_type": "markdown",
   "metadata": {},
   "source": [
    "Errors can be _caught_ within a `try/except` block: some specific code will run in case of an error."
   ]
  },
  {
   "cell_type": "code",
   "execution_count": null,
   "metadata": {
    "collapsed": false
   },
   "outputs": [],
   "source": [
    "def add_one(n):\n",
    "    \"\"\"\n",
    "    Add one to an integer.\n",
    "    \"\"\"\n",
    "    try:\n",
    "        assert (type(n) == type(1))\n",
    "    except:\n",
    "        print \"Caught an exception!\"    \n",
    "    return n+1\n",
    "\n",
    "add_one(1.1)"
   ]
  },
  {
   "cell_type": "markdown",
   "metadata": {},
   "source": [
    "## Additional resources\n",
    "* Official Python page: http://python.org\n",
    "* Styleguide for Python code: https://www.python.org/dev/peps/pep-0008/\n",
    "* Think Python, by Allen B. Downey: http://greenteapress.com/wp/think-python/"
   ]
  }
 ],
 "metadata": {
  "kernelspec": {
   "display_name": "Python 2",
   "language": "python",
   "name": "python2"
  },
  "language_info": {
   "codemirror_mode": {
    "name": "ipython",
    "version": 2
   },
   "file_extension": ".py",
   "mimetype": "text/x-python",
   "name": "python",
   "nbconvert_exporter": "python",
   "pygments_lexer": "ipython2",
   "version": "2.7.6"
  }
 },
 "nbformat": 4,
 "nbformat_minor": 2
}
